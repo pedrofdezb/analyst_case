{
 "cells": [
  {
   "cell_type": "markdown",
   "metadata": {},
   "source": [
    "# Case Adevinta Data Analyst"
   ]
  },
  {
   "cell_type": "markdown",
   "metadata": {},
   "source": [
    "My approach is to solve the case with SQL but taking advantage of the flexibility and simplicity that Python provides. I will use SQL Lite to create the connector and to store the table and Pandas to execute queries on SQL. Also, matplotlib will be used for plotting purposes.\n",
    "\n",
    "I will start by loading the corresponding libraries. "
   ]
  },
  {
   "cell_type": "code",
   "execution_count": null,
   "metadata": {},
   "outputs": [],
   "source": [
    "import sqlite3 as sql\n",
    "import numpy as np\n",
    "import pandas as pd\n",
    "import matplotlib.pyplot as plt"
   ]
  },
  {
   "cell_type": "markdown",
   "metadata": {},
   "source": [
    "Let's load the table *events_log.csv* from the source."
   ]
  },
  {
   "cell_type": "code",
   "execution_count": 2,
   "metadata": {},
   "outputs": [],
   "source": [
    "url ='https://github.com/wikimedia-research/Discovery-Hiring-Analyst-2016/blob/master/events_log.csv.gz?raw=true'\n",
    "log = pd.read_csv(url, compression = 'gzip')"
   ]
  },
  {
   "cell_type": "markdown",
   "metadata": {},
   "source": [
    "Let's transform the column *timestamp* to date time values."
   ]
  },
  {
   "cell_type": "code",
   "execution_count": null,
   "metadata": {},
   "outputs": [],
   "source": [
    "log['timestamp'] = pd.to_datetime(log['timestamp'], format='%Y%m%d%H%M%S')"
   ]
  },
  {
   "cell_type": "markdown",
   "metadata": {},
   "source": [
    "We will create the *conn* object to let query SQL in our source file *events_log.csv*. \n",
    "The SQL table referencing *events_log.csv* is called *events*."
   ]
  },
  {
   "cell_type": "code",
   "execution_count": 4,
   "metadata": {},
   "outputs": [],
   "source": [
    "conn = sql.connect('log.db')\n",
    "log.to_sql('events', conn)"
   ]
  },
  {
   "cell_type": "markdown",
   "metadata": {},
   "source": [
    "First of all, we are going to analyze our dataset in order to best understand the data.\n",
    "We will start analyzing the main characteristic such as data type per column, data count, nulls count and memory use. "
   ]
  },
  {
   "cell_type": "code",
   "execution_count": 56,
   "metadata": {
    "scrolled": true
   },
   "outputs": [
    {
     "name": "stdout",
     "output_type": "stream",
     "text": [
      "<class 'pandas.core.frame.DataFrame'>\n",
      "RangeIndex: 400165 entries, 0 to 400164\n",
      "Data columns (total 9 columns):\n",
      "uuid               400165 non-null object\n",
      "timestamp          400165 non-null datetime64[ns]\n",
      "session_id         400165 non-null object\n",
      "group              400165 non-null object\n",
      "action             400165 non-null object\n",
      "checkin            223824 non-null float64\n",
      "page_id            400165 non-null object\n",
      "n_results          136234 non-null float64\n",
      "result_position    230482 non-null float64\n",
      "dtypes: datetime64[ns](1), float64(3), object(5)\n",
      "memory usage: 27.5+ MB\n"
     ]
    }
   ],
   "source": [
    "log.info()"
   ]
  },
  {
   "cell_type": "markdown",
   "metadata": {},
   "source": [
    "Also, we will perform a statistical analysis in order to better understand the range and mean values of our dataset: "
   ]
  },
  {
   "cell_type": "code",
   "execution_count": 57,
   "metadata": {},
   "outputs": [
    {
     "data": {
      "text/html": [
       "<div>\n",
       "<style scoped>\n",
       "    .dataframe tbody tr th:only-of-type {\n",
       "        vertical-align: middle;\n",
       "    }\n",
       "\n",
       "    .dataframe tbody tr th {\n",
       "        vertical-align: top;\n",
       "    }\n",
       "\n",
       "    .dataframe thead th {\n",
       "        text-align: right;\n",
       "    }\n",
       "</style>\n",
       "<table border=\"1\" class=\"dataframe\">\n",
       "  <thead>\n",
       "    <tr style=\"text-align: right;\">\n",
       "      <th></th>\n",
       "      <th>checkin</th>\n",
       "      <th>n_results</th>\n",
       "      <th>result_position</th>\n",
       "    </tr>\n",
       "  </thead>\n",
       "  <tbody>\n",
       "    <tr>\n",
       "      <td>count</td>\n",
       "      <td>223824.000000</td>\n",
       "      <td>136234.000000</td>\n",
       "      <td>230482.000000</td>\n",
       "    </tr>\n",
       "    <tr>\n",
       "      <td>mean</td>\n",
       "      <td>97.190382</td>\n",
       "      <td>13.210109</td>\n",
       "      <td>2.992798</td>\n",
       "    </tr>\n",
       "    <tr>\n",
       "      <td>std</td>\n",
       "      <td>104.593714</td>\n",
       "      <td>13.271104</td>\n",
       "      <td>38.557292</td>\n",
       "    </tr>\n",
       "    <tr>\n",
       "      <td>min</td>\n",
       "      <td>10.000000</td>\n",
       "      <td>0.000000</td>\n",
       "      <td>1.000000</td>\n",
       "    </tr>\n",
       "    <tr>\n",
       "      <td>25%</td>\n",
       "      <td>20.000000</td>\n",
       "      <td>2.000000</td>\n",
       "      <td>1.000000</td>\n",
       "    </tr>\n",
       "    <tr>\n",
       "      <td>50%</td>\n",
       "      <td>50.000000</td>\n",
       "      <td>20.000000</td>\n",
       "      <td>1.000000</td>\n",
       "    </tr>\n",
       "    <tr>\n",
       "      <td>75%</td>\n",
       "      <td>150.000000</td>\n",
       "      <td>20.000000</td>\n",
       "      <td>2.000000</td>\n",
       "    </tr>\n",
       "    <tr>\n",
       "      <td>max</td>\n",
       "      <td>420.000000</td>\n",
       "      <td>500.000000</td>\n",
       "      <td>4103.000000</td>\n",
       "    </tr>\n",
       "  </tbody>\n",
       "</table>\n",
       "</div>"
      ],
      "text/plain": [
       "             checkin      n_results  result_position\n",
       "count  223824.000000  136234.000000    230482.000000\n",
       "mean       97.190382      13.210109         2.992798\n",
       "std       104.593714      13.271104        38.557292\n",
       "min        10.000000       0.000000         1.000000\n",
       "25%        20.000000       2.000000         1.000000\n",
       "50%        50.000000      20.000000         1.000000\n",
       "75%       150.000000      20.000000         2.000000\n",
       "max       420.000000     500.000000      4103.000000"
      ]
     },
     "execution_count": 57,
     "metadata": {},
     "output_type": "execute_result"
    }
   ],
   "source": [
    "log.describe()"
   ]
  },
  {
   "cell_type": "markdown",
   "metadata": {},
   "source": [
    "Also, we will check the uniqueness of some key columns data:"
   ]
  },
  {
   "cell_type": "markdown",
   "metadata": {},
   "source": [
    "**Is uuid unique, so I doesn't have any duplicate?**"
   ]
  },
  {
   "cell_type": "code",
   "execution_count": 41,
   "metadata": {},
   "outputs": [],
   "source": [
    "unique_uuid = pd.read_sql('''\n",
    "\n",
    "SELECT \n",
    "    COUNT(*) - COUNT(DISTINCT uuid) AS Duplicate_uuid \n",
    "FROM events\n",
    "\n",
    "''', conn)"
   ]
  },
  {
   "cell_type": "markdown",
   "metadata": {},
   "source": [
    "Yes, uuid is unique."
   ]
  },
  {
   "cell_type": "code",
   "execution_count": 8,
   "metadata": {
    "scrolled": true
   },
   "outputs": [
    {
     "data": {
      "text/html": [
       "<div>\n",
       "<style scoped>\n",
       "    .dataframe tbody tr th:only-of-type {\n",
       "        vertical-align: middle;\n",
       "    }\n",
       "\n",
       "    .dataframe tbody tr th {\n",
       "        vertical-align: top;\n",
       "    }\n",
       "\n",
       "    .dataframe thead th {\n",
       "        text-align: right;\n",
       "    }\n",
       "</style>\n",
       "<table border=\"1\" class=\"dataframe\">\n",
       "  <thead>\n",
       "    <tr style=\"text-align: right;\">\n",
       "      <th></th>\n",
       "      <th>Duplicate_uuid</th>\n",
       "    </tr>\n",
       "  </thead>\n",
       "  <tbody>\n",
       "    <tr>\n",
       "      <td>0</td>\n",
       "      <td>0</td>\n",
       "    </tr>\n",
       "  </tbody>\n",
       "</table>\n",
       "</div>"
      ],
      "text/plain": [
       "   Duplicate_uuid\n",
       "0               0"
      ]
     },
     "execution_count": 8,
     "metadata": {},
     "output_type": "execute_result"
    }
   ],
   "source": [
    "unique_uuid.head()"
   ]
  },
  {
   "cell_type": "markdown",
   "metadata": {},
   "source": [
    "**Is the total number of different groups really equal to 2?**"
   ]
  },
  {
   "cell_type": "code",
   "execution_count": 42,
   "metadata": {},
   "outputs": [],
   "source": [
    "num_group = pd.read_sql('''\n",
    "\n",
    "SELECT \n",
    "    COUNT(DISTINCT \"group\") AS Groups_Number \n",
    "FROM events\n",
    "\n",
    "''', conn)"
   ]
  },
  {
   "cell_type": "markdown",
   "metadata": {},
   "source": [
    "Yes, the total number of different groups is 2."
   ]
  },
  {
   "cell_type": "code",
   "execution_count": 43,
   "metadata": {},
   "outputs": [
    {
     "name": "stdout",
     "output_type": "stream",
     "text": [
      "   Groups_Number\n",
      "0              2\n"
     ]
    }
   ],
   "source": [
    "print(num_group)"
   ]
  },
  {
   "cell_type": "markdown",
   "metadata": {},
   "source": [
    "## 1. Clickthrough Rate Calculation"
   ]
  },
  {
   "cell_type": "markdown",
   "metadata": {},
   "source": [
    "**What is our daily overall clickthrough rate? How does it vary between the groups?**"
   ]
  },
  {
   "cell_type": "markdown",
   "metadata": {},
   "source": [
    "The daily overall clickthrough rate is defined as the ratio between all the sessions that click on a displayed search result among all the sessions. We will take a special consideration to the case in which a session is created one day but the click is performed in other day, that's why we are going to perform the analysis between the mininum timestamp of a session (when it is created) and maximum timestamp of a session (when it finishes)."
   ]
  },
  {
   "cell_type": "code",
   "execution_count": 44,
   "metadata": {},
   "outputs": [],
   "source": [
    "conversion_rate = pd.read_sql('''\n",
    "\n",
    "        WITH A AS(\n",
    "            SELECT \n",
    "                \"group\"\n",
    "                ,session_id\n",
    "                ,MIN(date(timestamp)) AS Day_Start\n",
    "                ,MAX(CASE WHEN action == \"visitPage\" THEN 1 ELSE 0 END) AS Has_Clicked \n",
    "            FROM events \n",
    "            GROUP BY 1,2 \n",
    "            ORDER BY 1,2,3\n",
    "            ) \n",
    "        SELECT \n",
    "            Day_Start\n",
    "            ,1.00000*SUM(Has_Clicked)/COUNT(session_id) AS Conversion_Rate \n",
    "        FROM A  \n",
    "        GROUP BY 1 \n",
    "        ORDER BY 1\n",
    "    \n",
    "    ''',conn) "
   ]
  },
  {
   "cell_type": "markdown",
   "metadata": {},
   "source": [
    "**Daily overall clickthrough rate**"
   ]
  },
  {
   "cell_type": "code",
   "execution_count": 45,
   "metadata": {
    "scrolled": false
   },
   "outputs": [
    {
     "data": {
      "text/html": [
       "<div>\n",
       "<style scoped>\n",
       "    .dataframe tbody tr th:only-of-type {\n",
       "        vertical-align: middle;\n",
       "    }\n",
       "\n",
       "    .dataframe tbody tr th {\n",
       "        vertical-align: top;\n",
       "    }\n",
       "\n",
       "    .dataframe thead th {\n",
       "        text-align: right;\n",
       "    }\n",
       "</style>\n",
       "<table border=\"1\" class=\"dataframe\">\n",
       "  <thead>\n",
       "    <tr style=\"text-align: right;\">\n",
       "      <th></th>\n",
       "      <th>Day_Start</th>\n",
       "      <th>Conversion_Rate</th>\n",
       "    </tr>\n",
       "  </thead>\n",
       "  <tbody>\n",
       "    <tr>\n",
       "      <td>0</td>\n",
       "      <td>2016-03-01</td>\n",
       "      <td>0.380670</td>\n",
       "    </tr>\n",
       "    <tr>\n",
       "      <td>1</td>\n",
       "      <td>2016-03-02</td>\n",
       "      <td>0.391219</td>\n",
       "    </tr>\n",
       "    <tr>\n",
       "      <td>2</td>\n",
       "      <td>2016-03-03</td>\n",
       "      <td>0.387884</td>\n",
       "    </tr>\n",
       "    <tr>\n",
       "      <td>3</td>\n",
       "      <td>2016-03-04</td>\n",
       "      <td>0.398495</td>\n",
       "    </tr>\n",
       "    <tr>\n",
       "      <td>4</td>\n",
       "      <td>2016-03-05</td>\n",
       "      <td>0.382226</td>\n",
       "    </tr>\n",
       "    <tr>\n",
       "      <td>5</td>\n",
       "      <td>2016-03-06</td>\n",
       "      <td>0.388474</td>\n",
       "    </tr>\n",
       "    <tr>\n",
       "      <td>6</td>\n",
       "      <td>2016-03-07</td>\n",
       "      <td>0.392636</td>\n",
       "    </tr>\n",
       "    <tr>\n",
       "      <td>7</td>\n",
       "      <td>2016-03-08</td>\n",
       "      <td>0.388126</td>\n",
       "    </tr>\n",
       "  </tbody>\n",
       "</table>\n",
       "</div>"
      ],
      "text/plain": [
       "    Day_Start  Conversion_Rate\n",
       "0  2016-03-01         0.380670\n",
       "1  2016-03-02         0.391219\n",
       "2  2016-03-03         0.387884\n",
       "3  2016-03-04         0.398495\n",
       "4  2016-03-05         0.382226\n",
       "5  2016-03-06         0.388474\n",
       "6  2016-03-07         0.392636\n",
       "7  2016-03-08         0.388126"
      ]
     },
     "execution_count": 45,
     "metadata": {},
     "output_type": "execute_result"
    }
   ],
   "source": [
    "conversion_rate.head(10)"
   ]
  },
  {
   "cell_type": "markdown",
   "metadata": {},
   "source": [
    "Now, we will split the conversion rate results among the two different groups (a and b)"
   ]
  },
  {
   "cell_type": "markdown",
   "metadata": {},
   "source": [
    "**Daily overall clickthrough rate per group**"
   ]
  },
  {
   "cell_type": "code",
   "execution_count": 46,
   "metadata": {},
   "outputs": [],
   "source": [
    "conversion_rate_group = pd.read_sql('''\n",
    "\n",
    "        WITH A AS(\n",
    "            SELECT \n",
    "                \"group\"\n",
    "                ,session_id\n",
    "                ,MIN(date(timestamp)) AS Day_Start\n",
    "                ,MAX(CASE WHEN action == \"visitPage\" THEN 1 ELSE 0 END) AS Has_Clicked \n",
    "            FROM events GROUP BY 1,2 ORDER BY 1,2,3\n",
    "            ) \n",
    "        SELECT \n",
    "            Day_Start\n",
    "            ,\"group\"\n",
    "            ,1.00000*SUM(Has_Clicked)/COUNT(session_id) AS Conversion_Rate \n",
    "        FROM A  \n",
    "        GROUP BY 1,2 \n",
    "        ORDER BY 1,2\n",
    "    \n",
    "    ''',conn) "
   ]
  },
  {
   "cell_type": "code",
   "execution_count": 90,
   "metadata": {
    "scrolled": true
   },
   "outputs": [
    {
     "data": {
      "text/html": [
       "<div>\n",
       "<style scoped>\n",
       "    .dataframe tbody tr th:only-of-type {\n",
       "        vertical-align: middle;\n",
       "    }\n",
       "\n",
       "    .dataframe tbody tr th {\n",
       "        vertical-align: top;\n",
       "    }\n",
       "\n",
       "    .dataframe thead th {\n",
       "        text-align: right;\n",
       "    }\n",
       "</style>\n",
       "<table border=\"1\" class=\"dataframe\">\n",
       "  <thead>\n",
       "    <tr style=\"text-align: right;\">\n",
       "      <th></th>\n",
       "      <th>Day_Start</th>\n",
       "      <th>group</th>\n",
       "      <th>Conversion_Rate</th>\n",
       "    </tr>\n",
       "  </thead>\n",
       "  <tbody>\n",
       "    <tr>\n",
       "      <td>0</td>\n",
       "      <td>2016-03-01</td>\n",
       "      <td>a</td>\n",
       "      <td>0.671259</td>\n",
       "    </tr>\n",
       "    <tr>\n",
       "      <td>1</td>\n",
       "      <td>2016-03-01</td>\n",
       "      <td>b</td>\n",
       "      <td>0.138416</td>\n",
       "    </tr>\n",
       "    <tr>\n",
       "      <td>2</td>\n",
       "      <td>2016-03-02</td>\n",
       "      <td>a</td>\n",
       "      <td>0.682250</td>\n",
       "    </tr>\n",
       "    <tr>\n",
       "      <td>3</td>\n",
       "      <td>2016-03-02</td>\n",
       "      <td>b</td>\n",
       "      <td>0.145349</td>\n",
       "    </tr>\n",
       "    <tr>\n",
       "      <td>4</td>\n",
       "      <td>2016-03-03</td>\n",
       "      <td>a</td>\n",
       "      <td>0.676828</td>\n",
       "    </tr>\n",
       "    <tr>\n",
       "      <td>5</td>\n",
       "      <td>2016-03-03</td>\n",
       "      <td>b</td>\n",
       "      <td>0.152022</td>\n",
       "    </tr>\n",
       "    <tr>\n",
       "      <td>6</td>\n",
       "      <td>2016-03-04</td>\n",
       "      <td>a</td>\n",
       "      <td>0.676269</td>\n",
       "    </tr>\n",
       "    <tr>\n",
       "      <td>7</td>\n",
       "      <td>2016-03-04</td>\n",
       "      <td>b</td>\n",
       "      <td>0.192819</td>\n",
       "    </tr>\n",
       "    <tr>\n",
       "      <td>8</td>\n",
       "      <td>2016-03-05</td>\n",
       "      <td>a</td>\n",
       "      <td>0.646131</td>\n",
       "    </tr>\n",
       "    <tr>\n",
       "      <td>9</td>\n",
       "      <td>2016-03-05</td>\n",
       "      <td>b</td>\n",
       "      <td>0.202399</td>\n",
       "    </tr>\n",
       "  </tbody>\n",
       "</table>\n",
       "</div>"
      ],
      "text/plain": [
       "    Day_Start group  Conversion_Rate\n",
       "0  2016-03-01     a         0.671259\n",
       "1  2016-03-01     b         0.138416\n",
       "2  2016-03-02     a         0.682250\n",
       "3  2016-03-02     b         0.145349\n",
       "4  2016-03-03     a         0.676828\n",
       "5  2016-03-03     b         0.152022\n",
       "6  2016-03-04     a         0.676269\n",
       "7  2016-03-04     b         0.192819\n",
       "8  2016-03-05     a         0.646131\n",
       "9  2016-03-05     b         0.202399"
      ]
     },
     "execution_count": 90,
     "metadata": {},
     "output_type": "execute_result"
    }
   ],
   "source": [
    "conversion_rate_group.head(10)"
   ]
  },
  {
   "cell_type": "markdown",
   "metadata": {},
   "source": [
    "## 2. Best Search Result"
   ]
  },
  {
   "cell_type": "markdown",
   "metadata": {},
   "source": [
    "**Which results do people tend to try first? How does it change day-to-day?**"
   ]
  },
  {
   "cell_type": "markdown",
   "metadata": {},
   "source": [
    "To analyze the results people tend to try first, we will take into account data that meets the following criteria:\n",
    "\n",
    "* Sessions with a current action equal to *visitPage*\n",
    "* Sessions with a previous action equal to *searchResultPage*\n",
    "* Sessions with equal current and previous *session_id*\n",
    "\n",
    "So, we will analyze sessions that perform a search result page action and visit page action in two equal session_id consecutive sessions. Then, from these sessions we will count totals for the different result positions and its corresponding ratios in order to find the search results tendency."
   ]
  },
  {
   "cell_type": "code",
   "execution_count": 50,
   "metadata": {},
   "outputs": [],
   "source": [
    "best_search_result = pd.read_sql('''\n",
    "\n",
    "        WITH B AS (\n",
    "            SELECT \n",
    "                timestamp\n",
    "                ,session_id\n",
    "                ,LAG(session_id,1,0) OVER(PARTITION BY session_id) AS Previous_Session\n",
    "                ,action\n",
    "                ,LAG(action,1,0) OVER() AS Previous_Action\n",
    "                ,result_position \n",
    "            FROM events \n",
    "            GROUP BY 2,1 \n",
    "            ORDER BY 2,1\n",
    "            ), \n",
    "        C AS (\n",
    "            SELECT \n",
    "                date(timestamp)\n",
    "                ,session_id\n",
    "                ,result_position \n",
    "            FROM B \n",
    "            WHERE session_id == Previous_Session \n",
    "                AND action == \"visitPage\" \n",
    "                AND Previous_Action == \"searchResultPage\" \n",
    "            ORDER BY 2\n",
    "            ) \n",
    "        SELECT \n",
    "            result_position\n",
    "            ,COUNT(result_position) AS Preferred_Search_Result\n",
    "            ,1.00000*COUNT(result_position)/(SELECT COUNT(*) FROM C) AS Preferred_Search_Ratio \n",
    "        FROM C \n",
    "        GROUP BY 1 \n",
    "        ORDER BY 1 \n",
    "        \n",
    "''',conn)"
   ]
  },
  {
   "cell_type": "markdown",
   "metadata": {},
   "source": [
    "**Best Search Result**\n",
    "As we can see in the results below, the search result that users tend to try first is the result in position 1."
   ]
  },
  {
   "cell_type": "code",
   "execution_count": 51,
   "metadata": {
    "scrolled": true
   },
   "outputs": [
    {
     "data": {
      "text/html": [
       "<div>\n",
       "<style scoped>\n",
       "    .dataframe tbody tr th:only-of-type {\n",
       "        vertical-align: middle;\n",
       "    }\n",
       "\n",
       "    .dataframe tbody tr th {\n",
       "        vertical-align: top;\n",
       "    }\n",
       "\n",
       "    .dataframe thead th {\n",
       "        text-align: right;\n",
       "    }\n",
       "</style>\n",
       "<table border=\"1\" class=\"dataframe\">\n",
       "  <thead>\n",
       "    <tr style=\"text-align: right;\">\n",
       "      <th></th>\n",
       "      <th>result_position</th>\n",
       "      <th>Preferred_Search_Result</th>\n",
       "      <th>Preferred_Search_Ratio</th>\n",
       "    </tr>\n",
       "  </thead>\n",
       "  <tbody>\n",
       "    <tr>\n",
       "      <td>1</td>\n",
       "      <td>1.0</td>\n",
       "      <td>20973</td>\n",
       "      <td>0.633033</td>\n",
       "    </tr>\n",
       "    <tr>\n",
       "      <td>2</td>\n",
       "      <td>2.0</td>\n",
       "      <td>4685</td>\n",
       "      <td>0.141408</td>\n",
       "    </tr>\n",
       "    <tr>\n",
       "      <td>3</td>\n",
       "      <td>3.0</td>\n",
       "      <td>2381</td>\n",
       "      <td>0.071866</td>\n",
       "    </tr>\n",
       "    <tr>\n",
       "      <td>4</td>\n",
       "      <td>4.0</td>\n",
       "      <td>1298</td>\n",
       "      <td>0.039178</td>\n",
       "    </tr>\n",
       "    <tr>\n",
       "      <td>5</td>\n",
       "      <td>5.0</td>\n",
       "      <td>817</td>\n",
       "      <td>0.024660</td>\n",
       "    </tr>\n",
       "  </tbody>\n",
       "</table>\n",
       "</div>"
      ],
      "text/plain": [
       "   result_position  Preferred_Search_Result  Preferred_Search_Ratio\n",
       "1              1.0                    20973                0.633033\n",
       "2              2.0                     4685                0.141408\n",
       "3              3.0                     2381                0.071866\n",
       "4              4.0                     1298                0.039178\n",
       "5              5.0                      817                0.024660"
      ]
     },
     "execution_count": 51,
     "metadata": {},
     "output_type": "execute_result"
    }
   ],
   "source": [
    "best_search_result[1:6]"
   ]
  },
  {
   "cell_type": "markdown",
   "metadata": {},
   "source": [
    "Now, let's split the results per day:"
   ]
  },
  {
   "cell_type": "code",
   "execution_count": 86,
   "metadata": {},
   "outputs": [],
   "source": [
    "best_search_result_daily = pd.read_sql('''\n",
    "        \n",
    "        WITH B AS (\n",
    "            SELECT \n",
    "                timestamp\n",
    "                ,session_id\n",
    "                ,LAG(session_id,1,0) OVER(PARTITION BY session_id) AS Previous_Session\n",
    "                ,action\n",
    "                ,LAG(action,1,0) OVER() AS Previous_Action\n",
    "                ,result_position \n",
    "            FROM events \n",
    "            GROUP BY 2,1 \n",
    "            ORDER BY 2,1\n",
    "            ), \n",
    "        C AS (\n",
    "            SELECT \n",
    "                date(timestamp) AS Date\n",
    "                ,session_id\n",
    "                ,result_position \n",
    "            FROM B \n",
    "            WHERE session_id == Previous_Session \n",
    "                AND action == \"visitPage\" \n",
    "                AND Previous_Action == \"searchResultPage\" \n",
    "            ORDER BY 2\n",
    "            ),\n",
    "        D AS (\n",
    " \n",
    "            SELECT \n",
    "                Date\n",
    "                ,result_position\n",
    "                ,COUNT(result_position) AS Total_results_date \n",
    "            FROM C \n",
    "            GROUP BY 1,2 \n",
    "            ORDER BY 1,2\n",
    "            )\n",
    "            \n",
    "            SELECT\n",
    "                Date\n",
    "                ,result_position\n",
    "                ,1.00000*MAX(Total_results_date) / SUM(Total_results_date) AS Preferred_Search_Ratio_PerDay\n",
    "            FROM D\n",
    "            GROUP BY 1\n",
    "            ORDER BY 1     \n",
    "    \n",
    "    ''' ,conn)"
   ]
  },
  {
   "cell_type": "markdown",
   "metadata": {},
   "source": [
    "**Best Search Result Daily**"
   ]
  },
  {
   "cell_type": "code",
   "execution_count": 87,
   "metadata": {
    "scrolled": true
   },
   "outputs": [
    {
     "data": {
      "text/html": [
       "<div>\n",
       "<style scoped>\n",
       "    .dataframe tbody tr th:only-of-type {\n",
       "        vertical-align: middle;\n",
       "    }\n",
       "\n",
       "    .dataframe tbody tr th {\n",
       "        vertical-align: top;\n",
       "    }\n",
       "\n",
       "    .dataframe thead th {\n",
       "        text-align: right;\n",
       "    }\n",
       "</style>\n",
       "<table border=\"1\" class=\"dataframe\">\n",
       "  <thead>\n",
       "    <tr style=\"text-align: right;\">\n",
       "      <th></th>\n",
       "      <th>Date</th>\n",
       "      <th>result_position</th>\n",
       "      <th>Preferred_Search_Ratio_PerDay</th>\n",
       "    </tr>\n",
       "  </thead>\n",
       "  <tbody>\n",
       "    <tr>\n",
       "      <td>0</td>\n",
       "      <td>2016-03-01</td>\n",
       "      <td>1.0</td>\n",
       "      <td>0.642398</td>\n",
       "    </tr>\n",
       "    <tr>\n",
       "      <td>1</td>\n",
       "      <td>2016-03-02</td>\n",
       "      <td>1.0</td>\n",
       "      <td>0.629505</td>\n",
       "    </tr>\n",
       "    <tr>\n",
       "      <td>2</td>\n",
       "      <td>2016-03-03</td>\n",
       "      <td>1.0</td>\n",
       "      <td>0.631714</td>\n",
       "    </tr>\n",
       "    <tr>\n",
       "      <td>3</td>\n",
       "      <td>2016-03-04</td>\n",
       "      <td>1.0</td>\n",
       "      <td>0.634473</td>\n",
       "    </tr>\n",
       "    <tr>\n",
       "      <td>4</td>\n",
       "      <td>2016-03-05</td>\n",
       "      <td>1.0</td>\n",
       "      <td>0.625039</td>\n",
       "    </tr>\n",
       "    <tr>\n",
       "      <td>5</td>\n",
       "      <td>2016-03-06</td>\n",
       "      <td>1.0</td>\n",
       "      <td>0.630719</td>\n",
       "    </tr>\n",
       "    <tr>\n",
       "      <td>6</td>\n",
       "      <td>2016-03-07</td>\n",
       "      <td>1.0</td>\n",
       "      <td>0.636086</td>\n",
       "    </tr>\n",
       "    <tr>\n",
       "      <td>7</td>\n",
       "      <td>2016-03-08</td>\n",
       "      <td>1.0</td>\n",
       "      <td>0.632705</td>\n",
       "    </tr>\n",
       "  </tbody>\n",
       "</table>\n",
       "</div>"
      ],
      "text/plain": [
       "         Date  result_position  Preferred_Search_Ratio_PerDay\n",
       "0  2016-03-01              1.0                       0.642398\n",
       "1  2016-03-02              1.0                       0.629505\n",
       "2  2016-03-03              1.0                       0.631714\n",
       "3  2016-03-04              1.0                       0.634473\n",
       "4  2016-03-05              1.0                       0.625039\n",
       "5  2016-03-06              1.0                       0.630719\n",
       "6  2016-03-07              1.0                       0.636086\n",
       "7  2016-03-08              1.0                       0.632705"
      ]
     },
     "execution_count": 87,
     "metadata": {},
     "output_type": "execute_result"
    }
   ],
   "source": [
    "best_search_result_daily.head(10)"
   ]
  },
  {
   "cell_type": "markdown",
   "metadata": {},
   "source": [
    "## 3. Total Zeros"
   ]
  },
  {
   "cell_type": "markdown",
   "metadata": {},
   "source": [
    "**What is our daily overall zero results rate? How does it vary between the groups?**"
   ]
  },
  {
   "cell_type": "markdown",
   "metadata": {},
   "source": [
    "Daily overall zeros results rate is the proportion of successfull search result page actions with zero result that day. "
   ]
  },
  {
   "cell_type": "code",
   "execution_count": 52,
   "metadata": {},
   "outputs": [],
   "source": [
    "total_zeros = pd.read_sql('''\n",
    "\n",
    "        WITH T AS (\n",
    "            SELECT \n",
    "                date(timestamp) AS Date\n",
    "                ,\"group\"\n",
    "                ,action\n",
    "                ,page_id\n",
    "                ,CASE WHEN n_results == 0 AND action == \"searchResultPage\" THEN 1 ELSE 0 END AS Num_Zeros \n",
    "            FROM events\n",
    "            ) \n",
    "        SELECT \n",
    "            Date\n",
    "            ,SUM(Num_Zeros) AS Total_Zeros\n",
    "            ,(1.00000)*SUM(Num_Zeros)/COUNT(page_id) AS Total_Zeros_Rate \n",
    "        FROM T \n",
    "        WHERE action == \"searchResultPage\" \n",
    "        GROUP BY 1 \n",
    "        ORDER BY 1 \n",
    "\n",
    "''',conn)"
   ]
  },
  {
   "cell_type": "markdown",
   "metadata": {},
   "source": [
    "**Daily overall zero results rate**"
   ]
  },
  {
   "cell_type": "code",
   "execution_count": 53,
   "metadata": {
    "scrolled": true
   },
   "outputs": [
    {
     "data": {
      "text/html": [
       "<div>\n",
       "<style scoped>\n",
       "    .dataframe tbody tr th:only-of-type {\n",
       "        vertical-align: middle;\n",
       "    }\n",
       "\n",
       "    .dataframe tbody tr th {\n",
       "        vertical-align: top;\n",
       "    }\n",
       "\n",
       "    .dataframe thead th {\n",
       "        text-align: right;\n",
       "    }\n",
       "</style>\n",
       "<table border=\"1\" class=\"dataframe\">\n",
       "  <thead>\n",
       "    <tr style=\"text-align: right;\">\n",
       "      <th></th>\n",
       "      <th>Date</th>\n",
       "      <th>Total_Zeros</th>\n",
       "      <th>Total_Zeros_Rate</th>\n",
       "    </tr>\n",
       "  </thead>\n",
       "  <tbody>\n",
       "    <tr>\n",
       "      <td>0</td>\n",
       "      <td>2016-03-01</td>\n",
       "      <td>3447</td>\n",
       "      <td>0.187602</td>\n",
       "    </tr>\n",
       "    <tr>\n",
       "      <td>1</td>\n",
       "      <td>2016-03-02</td>\n",
       "      <td>3589</td>\n",
       "      <td>0.189874</td>\n",
       "    </tr>\n",
       "    <tr>\n",
       "      <td>2</td>\n",
       "      <td>2016-03-03</td>\n",
       "      <td>3443</td>\n",
       "      <td>0.179707</td>\n",
       "    </tr>\n",
       "    <tr>\n",
       "      <td>3</td>\n",
       "      <td>2016-03-04</td>\n",
       "      <td>3015</td>\n",
       "      <td>0.180810</td>\n",
       "    </tr>\n",
       "    <tr>\n",
       "      <td>4</td>\n",
       "      <td>2016-03-05</td>\n",
       "      <td>2442</td>\n",
       "      <td>0.184944</td>\n",
       "    </tr>\n",
       "    <tr>\n",
       "      <td>5</td>\n",
       "      <td>2016-03-06</td>\n",
       "      <td>2574</td>\n",
       "      <td>0.176157</td>\n",
       "    </tr>\n",
       "    <tr>\n",
       "      <td>6</td>\n",
       "      <td>2016-03-07</td>\n",
       "      <td>3460</td>\n",
       "      <td>0.182000</td>\n",
       "    </tr>\n",
       "    <tr>\n",
       "      <td>7</td>\n",
       "      <td>2016-03-08</td>\n",
       "      <td>3157</td>\n",
       "      <td>0.193717</td>\n",
       "    </tr>\n",
       "  </tbody>\n",
       "</table>\n",
       "</div>"
      ],
      "text/plain": [
       "         Date  Total_Zeros  Total_Zeros_Rate\n",
       "0  2016-03-01         3447          0.187602\n",
       "1  2016-03-02         3589          0.189874\n",
       "2  2016-03-03         3443          0.179707\n",
       "3  2016-03-04         3015          0.180810\n",
       "4  2016-03-05         2442          0.184944\n",
       "5  2016-03-06         2574          0.176157\n",
       "6  2016-03-07         3460          0.182000\n",
       "7  2016-03-08         3157          0.193717"
      ]
     },
     "execution_count": 53,
     "metadata": {},
     "output_type": "execute_result"
    }
   ],
   "source": [
    "total_zeros.head(10)"
   ]
  },
  {
   "cell_type": "code",
   "execution_count": null,
   "metadata": {},
   "outputs": [],
   "source": [
    "Now, let's split the results per group:"
   ]
  },
  {
   "cell_type": "code",
   "execution_count": 54,
   "metadata": {},
   "outputs": [],
   "source": [
    "total_zeros_group = pd.read_sql('''\n",
    "\n",
    "        WITH T AS (\n",
    "            SELECT \n",
    "                date(timestamp) AS Date\n",
    "                ,\"group\"\n",
    "                ,action\n",
    "                ,page_id\n",
    "                ,CASE WHEN n_results == 0 AND action == \"searchResultPage\" THEN 1 ELSE 0 END AS Num_Zeros \n",
    "            FROM events\n",
    "            ) \n",
    "        SELECT \n",
    "            Date\n",
    "            ,\"group\"\n",
    "            ,SUM(Num_Zeros) AS Total_Zeros_Group\n",
    "            ,(1.00000)*SUM(Num_Zeros)/COUNT(page_id) AS Total_Zeros_Group_Rate \n",
    "        FROM T WHERE action == \"searchResultPage\" \n",
    "        GROUP BY 1,2 \n",
    "        ORDER BY 1,2 \n",
    "        \n",
    "''',conn)"
   ]
  },
  {
   "cell_type": "markdown",
   "metadata": {},
   "source": [
    "**Daily overall zero results rate per group**"
   ]
  },
  {
   "cell_type": "code",
   "execution_count": 55,
   "metadata": {
    "scrolled": true
   },
   "outputs": [
    {
     "data": {
      "text/html": [
       "<div>\n",
       "<style scoped>\n",
       "    .dataframe tbody tr th:only-of-type {\n",
       "        vertical-align: middle;\n",
       "    }\n",
       "\n",
       "    .dataframe tbody tr th {\n",
       "        vertical-align: top;\n",
       "    }\n",
       "\n",
       "    .dataframe thead th {\n",
       "        text-align: right;\n",
       "    }\n",
       "</style>\n",
       "<table border=\"1\" class=\"dataframe\">\n",
       "  <thead>\n",
       "    <tr style=\"text-align: right;\">\n",
       "      <th></th>\n",
       "      <th>Date</th>\n",
       "      <th>group</th>\n",
       "      <th>Total_Zeros_Group</th>\n",
       "      <th>Total_Zeros_Group_Rate</th>\n",
       "    </tr>\n",
       "  </thead>\n",
       "  <tbody>\n",
       "    <tr>\n",
       "      <td>0</td>\n",
       "      <td>2016-03-01</td>\n",
       "      <td>a</td>\n",
       "      <td>2350</td>\n",
       "      <td>0.186775</td>\n",
       "    </tr>\n",
       "    <tr>\n",
       "      <td>1</td>\n",
       "      <td>2016-03-01</td>\n",
       "      <td>b</td>\n",
       "      <td>1097</td>\n",
       "      <td>0.189399</td>\n",
       "    </tr>\n",
       "    <tr>\n",
       "      <td>2</td>\n",
       "      <td>2016-03-02</td>\n",
       "      <td>a</td>\n",
       "      <td>2524</td>\n",
       "      <td>0.191082</td>\n",
       "    </tr>\n",
       "    <tr>\n",
       "      <td>3</td>\n",
       "      <td>2016-03-02</td>\n",
       "      <td>b</td>\n",
       "      <td>1065</td>\n",
       "      <td>0.187072</td>\n",
       "    </tr>\n",
       "    <tr>\n",
       "      <td>4</td>\n",
       "      <td>2016-03-03</td>\n",
       "      <td>a</td>\n",
       "      <td>2371</td>\n",
       "      <td>0.178539</td>\n",
       "    </tr>\n",
       "    <tr>\n",
       "      <td>5</td>\n",
       "      <td>2016-03-03</td>\n",
       "      <td>b</td>\n",
       "      <td>1072</td>\n",
       "      <td>0.182344</td>\n",
       "    </tr>\n",
       "    <tr>\n",
       "      <td>6</td>\n",
       "      <td>2016-03-04</td>\n",
       "      <td>a</td>\n",
       "      <td>2068</td>\n",
       "      <td>0.183041</td>\n",
       "    </tr>\n",
       "    <tr>\n",
       "      <td>7</td>\n",
       "      <td>2016-03-04</td>\n",
       "      <td>b</td>\n",
       "      <td>947</td>\n",
       "      <td>0.176121</td>\n",
       "    </tr>\n",
       "    <tr>\n",
       "      <td>8</td>\n",
       "      <td>2016-03-05</td>\n",
       "      <td>a</td>\n",
       "      <td>1535</td>\n",
       "      <td>0.178240</td>\n",
       "    </tr>\n",
       "    <tr>\n",
       "      <td>9</td>\n",
       "      <td>2016-03-05</td>\n",
       "      <td>b</td>\n",
       "      <td>907</td>\n",
       "      <td>0.197517</td>\n",
       "    </tr>\n",
       "  </tbody>\n",
       "</table>\n",
       "</div>"
      ],
      "text/plain": [
       "         Date group  Total_Zeros_Group  Total_Zeros_Group_Rate\n",
       "0  2016-03-01     a               2350                0.186775\n",
       "1  2016-03-01     b               1097                0.189399\n",
       "2  2016-03-02     a               2524                0.191082\n",
       "3  2016-03-02     b               1065                0.187072\n",
       "4  2016-03-03     a               2371                0.178539\n",
       "5  2016-03-03     b               1072                0.182344\n",
       "6  2016-03-04     a               2068                0.183041\n",
       "7  2016-03-04     b                947                0.176121\n",
       "8  2016-03-05     a               1535                0.178240\n",
       "9  2016-03-05     b                907                0.197517"
      ]
     },
     "execution_count": 55,
     "metadata": {},
     "output_type": "execute_result"
    }
   ],
   "source": [
    "total_zeros_group.head(10)"
   ]
  },
  {
   "cell_type": "markdown",
   "metadata": {},
   "source": [
    "## 4. Session length vs Total Search Results"
   ]
  },
  {
   "cell_type": "markdown",
   "metadata": {},
   "source": [
    "**Let session length be approximately the time between the first event and the last event in a session. Choose a variable from the dataset and describe its relationship to session length. Visualize the relationship.**"
   ]
  },
  {
   "cell_type": "markdown",
   "metadata": {},
   "source": [
    "For the purpose of this question, we will analyze the relationship between session length and the total number of results displayed to a session."
   ]
  },
  {
   "cell_type": "code",
   "execution_count": 88,
   "metadata": {},
   "outputs": [],
   "source": [
    "session_length = pd.read_sql('''\n",
    "\n",
    "        SELECT \n",
    "            session_id\n",
    "            ,strftime(\"%s\",MAX(timestamp)) - strftime(\"%s\",MIN(timestamp)) AS Session_Length_seconds\n",
    "            ,SUM(n_results) AS Total_results \n",
    "        FROM events \n",
    "        GROUP BY 1  \n",
    "        ORDER BY 1\n",
    "        \n",
    "''',conn)"
   ]
  },
  {
   "cell_type": "code",
   "execution_count": 89,
   "metadata": {
    "scrolled": true
   },
   "outputs": [
    {
     "data": {
      "text/html": [
       "<div>\n",
       "<style scoped>\n",
       "    .dataframe tbody tr th:only-of-type {\n",
       "        vertical-align: middle;\n",
       "    }\n",
       "\n",
       "    .dataframe tbody tr th {\n",
       "        vertical-align: top;\n",
       "    }\n",
       "\n",
       "    .dataframe thead th {\n",
       "        text-align: right;\n",
       "    }\n",
       "</style>\n",
       "<table border=\"1\" class=\"dataframe\">\n",
       "  <thead>\n",
       "    <tr style=\"text-align: right;\">\n",
       "      <th></th>\n",
       "      <th>session_id</th>\n",
       "      <th>Session_Length_seconds</th>\n",
       "      <th>Total_results</th>\n",
       "    </tr>\n",
       "  </thead>\n",
       "  <tbody>\n",
       "    <tr>\n",
       "      <td>0</td>\n",
       "      <td>0000cbcb67c19c45</td>\n",
       "      <td>0</td>\n",
       "      <td>20.0</td>\n",
       "    </tr>\n",
       "    <tr>\n",
       "      <td>1</td>\n",
       "      <td>0001382e027b2ea4</td>\n",
       "      <td>303</td>\n",
       "      <td>18.0</td>\n",
       "    </tr>\n",
       "    <tr>\n",
       "      <td>2</td>\n",
       "      <td>0001e8bb90445cb2</td>\n",
       "      <td>435</td>\n",
       "      <td>20.0</td>\n",
       "    </tr>\n",
       "    <tr>\n",
       "      <td>3</td>\n",
       "      <td>000216cf18ae1ab1</td>\n",
       "      <td>58</td>\n",
       "      <td>120.0</td>\n",
       "    </tr>\n",
       "    <tr>\n",
       "      <td>4</td>\n",
       "      <td>000527f711d50dfc</td>\n",
       "      <td>0</td>\n",
       "      <td>1.0</td>\n",
       "    </tr>\n",
       "    <tr>\n",
       "      <td>5</td>\n",
       "      <td>00064fe774048046</td>\n",
       "      <td>43</td>\n",
       "      <td>1.0</td>\n",
       "    </tr>\n",
       "    <tr>\n",
       "      <td>6</td>\n",
       "      <td>00071a2cf97168df</td>\n",
       "      <td>0</td>\n",
       "      <td>20.0</td>\n",
       "    </tr>\n",
       "    <tr>\n",
       "      <td>7</td>\n",
       "      <td>0007582fe23d51e6</td>\n",
       "      <td>0</td>\n",
       "      <td>0.0</td>\n",
       "    </tr>\n",
       "    <tr>\n",
       "      <td>8</td>\n",
       "      <td>0007b7f6b575feb6</td>\n",
       "      <td>339</td>\n",
       "      <td>20.0</td>\n",
       "    </tr>\n",
       "    <tr>\n",
       "      <td>9</td>\n",
       "      <td>00086b6ff8156928</td>\n",
       "      <td>0</td>\n",
       "      <td>0.0</td>\n",
       "    </tr>\n",
       "  </tbody>\n",
       "</table>\n",
       "</div>"
      ],
      "text/plain": [
       "         session_id  Session_Length_seconds  Total_results\n",
       "0  0000cbcb67c19c45                       0           20.0\n",
       "1  0001382e027b2ea4                     303           18.0\n",
       "2  0001e8bb90445cb2                     435           20.0\n",
       "3  000216cf18ae1ab1                      58          120.0\n",
       "4  000527f711d50dfc                       0            1.0\n",
       "5  00064fe774048046                      43            1.0\n",
       "6  00071a2cf97168df                       0           20.0\n",
       "7  0007582fe23d51e6                       0            0.0\n",
       "8  0007b7f6b575feb6                     339           20.0\n",
       "9  00086b6ff8156928                       0            0.0"
      ]
     },
     "execution_count": 89,
     "metadata": {},
     "output_type": "execute_result"
    }
   ],
   "source": [
    "session_length.head(10)"
   ]
  },
  {
   "cell_type": "markdown",
   "metadata": {},
   "source": [
    "As we can see in the results below, the correlation between both variables is 0.064885. So, we can conclude session length and total search results displayed are not correlated. "
   ]
  },
  {
   "cell_type": "code",
   "execution_count": 35,
   "metadata": {
    "scrolled": true
   },
   "outputs": [
    {
     "data": {
      "text/html": [
       "<div>\n",
       "<style scoped>\n",
       "    .dataframe tbody tr th:only-of-type {\n",
       "        vertical-align: middle;\n",
       "    }\n",
       "\n",
       "    .dataframe tbody tr th {\n",
       "        vertical-align: top;\n",
       "    }\n",
       "\n",
       "    .dataframe thead th {\n",
       "        text-align: right;\n",
       "    }\n",
       "</style>\n",
       "<table border=\"1\" class=\"dataframe\">\n",
       "  <thead>\n",
       "    <tr style=\"text-align: right;\">\n",
       "      <th></th>\n",
       "      <th>Session_Length_seconds</th>\n",
       "      <th>Total_results</th>\n",
       "    </tr>\n",
       "  </thead>\n",
       "  <tbody>\n",
       "    <tr>\n",
       "      <td>Session_Length_seconds</td>\n",
       "      <td>1.000000</td>\n",
       "      <td>0.064885</td>\n",
       "    </tr>\n",
       "    <tr>\n",
       "      <td>Total_results</td>\n",
       "      <td>0.064885</td>\n",
       "      <td>1.000000</td>\n",
       "    </tr>\n",
       "  </tbody>\n",
       "</table>\n",
       "</div>"
      ],
      "text/plain": [
       "                        Session_Length_seconds  Total_results\n",
       "Session_Length_seconds                1.000000       0.064885\n",
       "Total_results                         0.064885       1.000000"
      ]
     },
     "execution_count": 35,
     "metadata": {},
     "output_type": "execute_result"
    }
   ],
   "source": [
    "session_length.corr()"
   ]
  },
  {
   "cell_type": "markdown",
   "metadata": {},
   "source": [
    "Let's visualize the results, that confirm our conclusion."
   ]
  },
  {
   "cell_type": "code",
   "execution_count": 36,
   "metadata": {
    "scrolled": false
   },
   "outputs": [
    {
     "data": {
      "text/plain": [
       "Text(0.5, 1.0, 'Results vs Session Length')"
      ]
     },
     "execution_count": 36,
     "metadata": {},
     "output_type": "execute_result"
    },
    {
     "data": {
      "image/png": "[encoded data removed]",
      "text/plain": [
       "<Figure size 432x288 with 1 Axes>"
      ]
     },
     "metadata": {
      "needs_background": "light"
     },
     "output_type": "display_data"
    }
   ],
   "source": [
    "plt.scatter(session_length.Session_Length_seconds,session_length.Total_results, c='blue',edgecolors= \"white\")\n",
    "plt.xlabel('Session Length')\n",
    "plt.ylabel('Total Search Results')\n",
    "plt.title('Results vs Session Length')"
   ]
  },
  {
   "cell_type": "markdown",
   "metadata": {},
   "source": [
    "Now, we are going to redefine our hypothesis removing data outliers. In our case, we don't know the maximum time\n",
    "a user should be actively navigating but we can estimate it.\n",
    "Sessions with length higher than one hour doesn't have too much sense so we are going to create a new hyphotesis and restrict our data removing all those sessions with length higher than 3600 seconds. "
   ]
  },
  {
   "cell_type": "code",
   "execution_count": 58,
   "metadata": {},
   "outputs": [],
   "source": [
    "session_length_restricted = session_length[(session_length['Session_Length_seconds'] < 3600)]"
   ]
  },
  {
   "cell_type": "code",
   "execution_count": 59,
   "metadata": {},
   "outputs": [
    {
     "data": {
      "text/html": [
       "<div>\n",
       "<style scoped>\n",
       "    .dataframe tbody tr th:only-of-type {\n",
       "        vertical-align: middle;\n",
       "    }\n",
       "\n",
       "    .dataframe tbody tr th {\n",
       "        vertical-align: top;\n",
       "    }\n",
       "\n",
       "    .dataframe thead th {\n",
       "        text-align: right;\n",
       "    }\n",
       "</style>\n",
       "<table border=\"1\" class=\"dataframe\">\n",
       "  <thead>\n",
       "    <tr style=\"text-align: right;\">\n",
       "      <th></th>\n",
       "      <th>Session_Length_seconds</th>\n",
       "      <th>Total_results</th>\n",
       "    </tr>\n",
       "  </thead>\n",
       "  <tbody>\n",
       "    <tr>\n",
       "      <td>Session_Length_seconds</td>\n",
       "      <td>1.00000</td>\n",
       "      <td>0.40947</td>\n",
       "    </tr>\n",
       "    <tr>\n",
       "      <td>Total_results</td>\n",
       "      <td>0.40947</td>\n",
       "      <td>1.00000</td>\n",
       "    </tr>\n",
       "  </tbody>\n",
       "</table>\n",
       "</div>"
      ],
      "text/plain": [
       "                        Session_Length_seconds  Total_results\n",
       "Session_Length_seconds                 1.00000        0.40947\n",
       "Total_results                          0.40947        1.00000"
      ]
     },
     "execution_count": 59,
     "metadata": {},
     "output_type": "execute_result"
    }
   ],
   "source": [
    "session_length_restricted.corr()"
   ]
  },
  {
   "cell_type": "markdown",
   "metadata": {},
   "source": [
    "Now, the relationship among both variables is quite better (0.41). \n",
    "Let's visualize the results:"
   ]
  },
  {
   "cell_type": "code",
   "execution_count": 74,
   "metadata": {
    "scrolled": true
   },
   "outputs": [
    {
     "data": {
      "text/plain": [
       "Text(0.5, 1.0, 'Results vs Session Length (Session Length Restricted)')"
      ]
     },
     "execution_count": 74,
     "metadata": {},
     "output_type": "execute_result"
    },
    {
     "data": {
      "image/png": "[encoded data removed]",
      "text/plain": [
       "<Figure size 432x288 with 1 Axes>"
      ]
     },
     "metadata": {
      "needs_background": "light"
     },
     "output_type": "display_data"
    }
   ],
   "source": [
    "plt.scatter(session_length_restricted.Session_Length_seconds,session_length_restricted.Total_results, c='blue',edgecolors= \"white\")\n",
    "plt.xlabel('Session Length')\n",
    "plt.ylabel('Total Search Results')\n",
    "plt.title('Results vs Session Length (Session Length Restricted)')"
   ]
  },
  {
   "cell_type": "markdown",
   "metadata": {},
   "source": [
    "Finally, we are going to introduce a new hypothesis. In the real world, sessions with high search results values could be suspicious as could be related to some scrapping bots that perform the searches automatically. \n",
    "That's why we are going to restrict the total results possible performed by a session to 100."
   ]
  },
  {
   "cell_type": "code",
   "execution_count": 69,
   "metadata": {},
   "outputs": [],
   "source": [
    "session_length_results_restricted = session_length[(session_length['Total_results'] < 100) & \n",
    "                                                   (session_length['Session_Length_seconds'] < 3600)]"
   ]
  },
  {
   "cell_type": "code",
   "execution_count": 70,
   "metadata": {},
   "outputs": [
    {
     "data": {
      "text/html": [
       "<div>\n",
       "<style scoped>\n",
       "    .dataframe tbody tr th:only-of-type {\n",
       "        vertical-align: middle;\n",
       "    }\n",
       "\n",
       "    .dataframe tbody tr th {\n",
       "        vertical-align: top;\n",
       "    }\n",
       "\n",
       "    .dataframe thead th {\n",
       "        text-align: right;\n",
       "    }\n",
       "</style>\n",
       "<table border=\"1\" class=\"dataframe\">\n",
       "  <thead>\n",
       "    <tr style=\"text-align: right;\">\n",
       "      <th></th>\n",
       "      <th>Session_Length_seconds</th>\n",
       "      <th>Total_results</th>\n",
       "    </tr>\n",
       "  </thead>\n",
       "  <tbody>\n",
       "    <tr>\n",
       "      <td>Session_Length_seconds</td>\n",
       "      <td>1.000000</td>\n",
       "      <td>0.325975</td>\n",
       "    </tr>\n",
       "    <tr>\n",
       "      <td>Total_results</td>\n",
       "      <td>0.325975</td>\n",
       "      <td>1.000000</td>\n",
       "    </tr>\n",
       "  </tbody>\n",
       "</table>\n",
       "</div>"
      ],
      "text/plain": [
       "                        Session_Length_seconds  Total_results\n",
       "Session_Length_seconds                1.000000       0.325975\n",
       "Total_results                         0.325975       1.000000"
      ]
     },
     "execution_count": 70,
     "metadata": {},
     "output_type": "execute_result"
    }
   ],
   "source": [
    "session_length_results_restricted.corr()"
   ]
  },
  {
   "cell_type": "code",
   "execution_count": 73,
   "metadata": {
    "scrolled": true
   },
   "outputs": [
    {
     "data": {
      "text/plain": [
       "Text(0.5, 1.0, 'Results vs Session Length (Num Results and Session Length restricted)')"
      ]
     },
     "execution_count": 73,
     "metadata": {},
     "output_type": "execute_result"
    },
    {
     "data": {
      "image/png": "[encoded data removed]",
      "text/plain": [
       "<Figure size 432x288 with 1 Axes>"
      ]
     },
     "metadata": {
      "needs_background": "light"
     },
     "output_type": "display_data"
    }
   ],
   "source": [
    "plt.scatter(session_length_results_restricted.Session_Length_seconds,session_length_results_restricted.Total_results, \n",
    "            c='blue',edgecolors= \"white\")\n",
    "plt.xlabel('Session Length')\n",
    "plt.ylabel('Total Search Results')\n",
    "plt.title('Results vs Session Length (Num Results and Session Length restricted)')"
   ]
  },
  {
   "cell_type": "markdown",
   "metadata": {},
   "source": [
    "In this new scenario, we can see both variables are also quite good correlated. \n",
    "Also, is interesting to mention that results have the tendency to appear aggregated in multiples of 20 (20, 40, 60,...)."
   ]
  },
  {
   "cell_type": "markdown",
   "metadata": {},
   "source": [
    "## 5. Executive Summary"
   ]
  },
  {
   "cell_type": "markdown",
   "metadata": {},
   "source": [
    "**Summarize your findings in an executive summary.**"
   ]
  },
  {
   "cell_type": "markdown",
   "metadata": {},
   "source": [
    "On average, the clickthrough rate is around 40% during the 8 days exposed in the dataset.\n",
    "Clearly, group *a* is more engaged with a higher clickthrough rate compared to group *b* (65% - 68% for group *a* comparted to 14% - 20% for group *b*). Those differences are maintained along time.\n",
    "\n",
    "Users have a clear preference for the first search result with a ratio of 63% of clicks converted.\n",
    "This tendency is constant along each day in the series.\n",
    "\n",
    "Total zeros rate is quite constant along all the days provided by the dataset with values ranging between 17% and 20%. Also, there is not any important difference between the two groups (*a* and *b*).\n",
    "\n",
    "In general, for further analysis, a wider time range should be provided.\n",
    "\n",
    "Finally, taking into account all the sessions in the dataset, the variables *session length* and *total number of results* doesn't have a significant relationship buf if we restrict the dataset to the more significant sessions, we can see a positive relationship among the two variables. Also, is important to mention that most of the searches have its results grouped in constant intervals of 20 (20, 40, 60, ...)."
   ]
  }
 ],
 "metadata": {
  "kernelspec": {
   "display_name": "Python 3",
   "language": "python",
   "name": "python3"
  },
  "language_info": {
   "codemirror_mode": {
    "name": "ipython",
    "version": 3
   },
   "file_extension": ".py",
   "mimetype": "text/x-python",
   "name": "python",
   "nbconvert_exporter": "python",
   "pygments_lexer": "ipython3",
   "version": "3.7.4"
  }
 },
 "nbformat": 4,
 "nbformat_minor": 2
}
